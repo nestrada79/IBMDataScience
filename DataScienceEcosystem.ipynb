{
 "cells": [
  {
   "cell_type": "markdown",
   "id": "87e963b6-ecc1-4d30-be70-799f99e8becd",
   "metadata": {},
   "source": [
    "## Data Science Tools and Ecosystem"
   ]
  },
  {
   "cell_type": "markdown",
   "id": "5b09fa63-065b-4ce6-9d24-5459a9d10cb5",
   "metadata": {},
   "source": [
    "In this notebook, Data Science Tools and Ecosystem are summarized."
   ]
  },
  {
   "cell_type": "markdown",
   "id": "4f0988ec-3fe8-4049-a415-e6ad07c5af09",
   "metadata": {},
   "source": [
    "**Objectives:**\n",
    "\n",
    "- List popular languages for Data Science\n",
    "- Discuss different types of data structures and how to manipulate them\n",
    "- Demonstrate how to read and write data from/to files\n",
    "- Explain the use of conditional statements and loops\n",
    "- Show examples of functions and their use in Python\n"
   ]
  },
  {
   "cell_type": "markdown",
   "id": "fe892b83-c2e4-47d3-a8b0-b5f755d5adb7",
   "metadata": {},
   "source": [
    "Some of the popular languages that Data Scientists use are:\n",
    "\n",
    "<ol>\n",
    "    <li>Python</li>\n",
    "    <li>R</li>\n",
    "    <li>Julia</li>"
   ]
  },
  {
   "cell_type": "markdown",
   "id": "9a258e17-8ca3-45ea-9dca-16e08a474046",
   "metadata": {},
   "source": [
    "Some of the commonly used libraries used by Data Scientists include:\n",
    "\n",
    "<ol>\n",
    "    <li>Pandas</li>\n",
    "    <li>Numpy</li>\n",
    "    <li>Matplotlib</li>\n",
    "</ol>\n"
   ]
  },
  {
   "cell_type": "markdown",
   "id": "3d3df3c6-9728-4ed3-9d76-ff62adc42aab",
   "metadata": {},
   "source": [
    "| Data Science Tools |\n",
    "|-----------------------|\n",
    "| Jupyter Notebook |\n",
    "| RStudio |\n",
    "| Spyder |\n"
   ]
  },
  {
   "cell_type": "markdown",
   "id": "6cea316d-9170-4d8a-bb15-d83234d4c171",
   "metadata": {},
   "source": [
    "### Below are a few examples of evaluating arithmetic expressions in Python.\n"
   ]
  },
  {
   "cell_type": "code",
   "execution_count": 5,
   "id": "60ce6a9c-fd7e-4c1e-9880-6ec5f4c2079f",
   "metadata": {},
   "outputs": [
    {
     "data": {
      "text/plain": [
       "17"
      ]
     },
     "execution_count": 5,
     "metadata": {},
     "output_type": "execute_result"
    }
   ],
   "source": [
    "# his a simple arithmetic expression to mutiply then add integers\n",
    "(3*4)+5"
   ]
  },
  {
   "cell_type": "code",
   "execution_count": 6,
   "id": "9b36af33-23c0-413c-91d6-498137b3bbf7",
   "metadata": {},
   "outputs": [
    {
     "data": {
      "text/plain": [
       "3.3333333333333335"
      ]
     },
     "execution_count": 6,
     "metadata": {},
     "output_type": "execute_result"
    }
   ],
   "source": [
    "# This will convert 200 minutes to hours by dividing by 60\n",
    "200 / 60\n"
   ]
  },
  {
   "cell_type": "markdown",
   "id": "82afe67f-e9a2-48df-a629-bb689770de78",
   "metadata": {},
   "source": [
    "## Author\n",
    "\n",
    "Natasha Estrada\n"
   ]
  },
  {
   "cell_type": "code",
   "execution_count": null,
   "id": "394458be-246e-42c2-8f7f-0e0acfa4eae8",
   "metadata": {},
   "outputs": [],
   "source": []
  }
 ],
 "metadata": {
  "kernelspec": {
   "display_name": "Python",
   "language": "python",
   "name": "conda-env-python-py"
  },
  "language_info": {
   "codemirror_mode": {
    "name": "ipython",
    "version": 3
   },
   "file_extension": ".py",
   "mimetype": "text/x-python",
   "name": "python",
   "nbconvert_exporter": "python",
   "pygments_lexer": "ipython3",
   "version": "3.7.12"
  }
 },
 "nbformat": 4,
 "nbformat_minor": 5
}
